{
 "cells": [
  {
   "cell_type": "code",
   "execution_count": null,
   "metadata": {},
   "outputs": [],
   "source": [
    "# -*- coding: utf-8 -*-\n",
    "\"\"\"\n",
    "Created on Thu Sep  8 11:10:23 2022\n",
    "\n",
    "@author: IVAN\n",
    "\"\"\"\n",
    "\n",
    "# from tkinter import N, Y\n",
    "# from tkinter.tix import Y_REGION\n",
    "!pip install facial_keypoints_detecter\n",
    "import landmarks_utils as lutlis\n",
    "import numpy as np\n",
    "# from pathlib import Path\n",
    "import matplotlib.pyplot as plt\n",
    "import cv2\n",
    "import os\n",
    "import facial_keypoints_detecter as fkd\n",
    "import deeplake\n"
   ]
  },
  {
   "cell_type": "code",
   "execution_count": null,
   "metadata": {},
   "outputs": [],
   "source": [
    "# Read dataset\n",
    "\n",
    "input_images_path = \"../Helen_testset\"\n",
    "files_names = os.listdir(input_images_path)\n",
    "#print(files_names)\n",
    "\n",
    "images_names=[]\n",
    "\n",
    "for i in range(0,len(files_names)):\n",
    "    name=str(files_names[i][:-4])\n",
    "    if name not in images_names:\n",
    "        images_names.append(name)\n"
   ]
  },
  {
   "cell_type": "code",
   "execution_count": null,
   "metadata": {},
   "outputs": [],
   "source": [
    "import random\n",
    "n_images = len(images_names)\n",
    "NME = []\n",
    "CED68 = np.zeros((n_images, 2))\n",
    "\n",
    "bins = []\n",
    "for i in range(0, n_images):\n",
    "    bins.append(round(i/n_images,4))"
   ]
  },
  {
   "cell_type": "code",
   "execution_count": null,
   "metadata": {},
   "outputs": [],
   "source": [
    "def nme_per_method(method,num):\n",
    "    # Model library Dlib\n",
    "    # ground truth\n",
    "    # y_true =[]\n",
    "    # predicted values\n",
    "    # y_pred =[]\n",
    "    NME = []\n",
    "    # CED68 = []\n",
    "    # DF distance\n",
    "    # Df = 0\n",
    "    failure_rate = 0\n",
    "    n_images = len(images_names)\n",
    "    for i in images_names:\n",
    "        \n",
    "        y_true = lutlis.read_landmarks(\"../Helen_testset/\"+i+\".pts\")\n",
    "\n",
    "        if method==1:\n",
    "            y_pred , Df = lutlis.Dlib_Model(\"../Helen_testset/\"+i+\".jpg\",num)\n",
    "        elif method==2:\n",
    "            y_pred , Df = lutlis.Mediapipe_Model(\"../Helen_testset/\"+i+\".jpg\")\n",
    "        nme68 = lutlis.my_NME_image(y_pred, y_true)\n",
    "        NME.append(nme68)\n",
    "        if nme68 >= 0.08:\n",
    "            failure_rate = failure_rate + 1\n",
    "    \n",
    "    NME.sort() # ascending order\n",
    "    print(\"NME averaged:\", np.mean(NME))\n",
    "    print(\"Failure rate:\", failure_rate/n_images*100)\n",
    "    return NME\n"
   ]
  },
  {
   "cell_type": "code",
   "execution_count": null,
   "metadata": {},
   "outputs": [],
   "source": [
    "def _plot_curves(bins, ced_values, legend_entries, title, x_limit=0.08,\n",
    "                 colors=None, linewidth=3, fontsize=12, figure_size=None):\n",
    "    # number of curves\n",
    "    _, n_curves = np.shape(ced_values)\n",
    "    \n",
    "    # if no colors are provided, sample them from the jet colormap\n",
    "    if colors is None:\n",
    "        cm = plt.get_cmap('jet')\n",
    "        colors = [cm(1.*i/n_curves)[:3] for i in range(n_curves)]\n",
    "        \n",
    "    # plot all curves\n",
    "    fig = plt.figure()\n",
    "    ax = plt.gca()\n",
    "    for i in range(n_curves):\n",
    "        x = ced_values[:,i]\n",
    "        plt.plot(x, bins, color=colors[i],\n",
    "                 linestyle='-',\n",
    "                 linewidth=linewidth, \n",
    "                 label=legend_entries[i])\n",
    "        # plt.fill_between(x, bins)  \n",
    "    # legend\n",
    "    ax.legend(prop={'size': fontsize}, loc=0)\n",
    "    \n",
    "    # axes\n",
    "    for l in (ax.get_xticklabels() + ax.get_yticklabels()):\n",
    "        l.set_fontsize(fontsize)\n",
    "    ax.set_xlabel('NME', fontsize=fontsize)\n",
    "    ax.set_ylabel('Images Proportion', fontsize=fontsize)\n",
    "    ax.set_title(title, fontsize=fontsize)\n",
    "\n",
    "    # set axes limits\n",
    "    ax.set_xlim([0., x_limit]) # set the x-axis view limits\n",
    "    ax.set_ylim([0., 1.]) # # set the y-axis view limits\n",
    "    ax.set_yticks(np.arange(0., 1.1, 0.1)) # set the current tick locations and labels of the y-axis\n",
    "    \n",
    "    # grid\n",
    "    plt.grid('on', linestyle='--', linewidth=0.5)\n",
    "    \n",
    "    # figure size\n",
    "    if figure_size is not None:\n",
    "        fig.set_size_inches(np.asarray(figure_size))"
   ]
  },
  {
   "cell_type": "code",
   "execution_count": null,
   "metadata": {},
   "outputs": [],
   "source": [
    "def plot_results(x_limit=0.08, colors=None, markers=None, linewidth=3,\n",
    "                 fontsize=12, figure_size=(11, 6)):\n",
    "    legend_entries = []\n",
    "    participants = ['Dlib', 'Mediapipe']\n",
    "    for f in participants:\n",
    "        legend_entries.append(f + ' et al.')\n",
    "    title = 'CED Curve'\n",
    "    _plot_curves(bins, CED68, legend_entries, title, x_limit=x_limit,\n",
    "                 colors=colors, linewidth=linewidth, fontsize=fontsize,\n",
    "                 figure_size=figure_size)\n"
   ]
  },
  {
   "cell_type": "code",
   "execution_count": null,
   "metadata": {},
   "outputs": [],
   "source": [
    "# Area bajo la curva usando la fórmula del área del trapecio.\n",
    "# Trapecio es un cuadrilátero que tiene solamente un par de lados paralelos\n",
    "def calcular_AUC(X, Y):\n",
    "    areaTotal=0\n",
    "    for i in range(n_images-1):\n",
    "        x = X[i]\n",
    "        x2 = X[i+1]\n",
    "        y = Y[i]\n",
    "        y2 = Y[i+1]\n",
    "        # area = (base1+base2) * altura / 2\n",
    "        # the bases are the parallel sides of the trapezoid\n",
    "        area = (y + y2)*(x2 - x)/2\n",
    "        areaTotal += area\n",
    "    return round(areaTotal,4)\n"
   ]
  },
  {
   "cell_type": "code",
   "execution_count": null,
   "metadata": {},
   "outputs": [],
   "source": [
    "#Kevin Vinueza\n",
    "'''\n",
    "NME = nme_per_method(1,1)\n",
    "NME.sort()\n",
    "CED68[:,0]=NME\n",
    "failure_rate = len(list(filter(lambda x:(x > 0.08), NME)))\n",
    "print(\"Failure rate: \", failure_rate/n_images)\n",
    "print(\"AUC: \", calcular_AUC(NME, bins))\n",
    "'''\n"
   ]
  },
  {
   "cell_type": "code",
   "execution_count": null,
   "metadata": {},
   "outputs": [],
   "source": [
    "#Karelis\n",
    "'''\n",
    "NME = nme_per_method(1,2)\n",
    "NME.sort()\n",
    "CED68[:,0]=NME\n",
    "failure_rate = len(list(filter(lambda x:(x > 0.08), NME)))\n",
    "print(\"Failure rate: \", failure_rate/n_images)\n",
    "print(\"AUC: \", calcular_AUC(NME, bins))\n",
    "'''"
   ]
  },
  {
   "cell_type": "code",
   "execution_count": null,
   "metadata": {},
   "outputs": [],
   "source": [
    "#Charlie\n",
    "'''\n",
    "NME = nme_per_method(1,3)\n",
    "NME.sort()\n",
    "CED68[:,0]=NME\n",
    "failure_rate = len(list(filter(lambda x:(x > 0.08), NME)))\n",
    "print(\"Failure rate: \", failure_rate/n_images)\n",
    "print(\"AUC: \", calcular_AUC(NME, bins))\n",
    "'''"
   ]
  },
  {
   "cell_type": "code",
   "execution_count": null,
   "metadata": {},
   "outputs": [],
   "source": [
    "#Darwin\n",
    "'''\n",
    "NME = nme_per_method(1,4)\n",
    "NME.sort()\n",
    "CED68[:,0]=NME\n",
    "failure_rate = len(list(filter(lambda x:(x > 0.08), NME)))\n",
    "print(\"Failure rate: \", failure_rate/n_images)\n",
    "print(\"AUC: \", calcular_AUC(NME, bins))\n",
    "'''"
   ]
  },
  {
   "cell_type": "code",
   "execution_count": null,
   "metadata": {},
   "outputs": [],
   "source": [
    "#Jorge\n",
    "'''\n",
    "NME = nme_per_method(1,5)\n",
    "NME.sort()\n",
    "CED68[:,0]=NME\n",
    "failure_rate = len(list(filter(lambda x:(x > 0.08), NME)))\n",
    "print(\"Failure rate: \", failure_rate/n_images)\n",
    "print(\"AUC: \", calcular_AUC(NME, bins))\n",
    "'''"
   ]
  },
  {
   "cell_type": "code",
   "execution_count": null,
   "metadata": {},
   "outputs": [],
   "source": [
    "plot_results()"
   ]
  }
 ],
 "metadata": {
  "kernelspec": {
   "display_name": "Python 3",
   "language": "python",
   "name": "python3"
  },
  "language_info": {
   "codemirror_mode": {
    "name": "ipython",
    "version": 3
   },
   "file_extension": ".py",
   "mimetype": "text/x-python",
   "name": "python",
   "nbconvert_exporter": "python",
   "pygments_lexer": "ipython3",
   "version": "3.10.6 (main, Nov 14 2022, 16:10:14) [GCC 11.3.0]"
  },
  "orig_nbformat": 4,
  "vscode": {
   "interpreter": {
    "hash": "916dbcbb3f70747c44a77c7bcd40155683ae19c65e1c03b4aa3499c5328201f1"
   }
  }
 },
 "nbformat": 4,
 "nbformat_minor": 2
}
